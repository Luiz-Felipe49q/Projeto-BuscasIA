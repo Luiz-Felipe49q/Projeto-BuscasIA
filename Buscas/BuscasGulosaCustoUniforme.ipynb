{
 "cells": [
  {
   "cell_type": "markdown",
   "metadata": {},
   "source": [
    "# O Problema\n",
    "\n"
   ]
  },
  {
   "metadata": {
    "ExecuteTime": {
     "end_time": "2024-11-07T03:52:03.221160Z",
     "start_time": "2024-11-07T03:52:03.217857Z"
    }
   },
   "cell_type": "code",
   "source": [
    "'''\n",
    "Utilizando como base o algoritmo do professor Esbel Tomas Valero Orellana, encontrado no Github através do link:\n",
    "https://github.com/etvorellana/RepoCET068-IA-2024_2/blob/main/ProvaOral/geradorProblemaDeBusca.ipynb\n",
    "utilizando a seed 31112024 passada pelo professor, eu, Luiz Felipe Santos Lopes, implementei dois algoritmos de busca:\n",
    "A busca gulosa e a busca de custo uniforme, utilizando uma fila de prioridade baseada na fila implementada pelo professor em aula, encontrada em :\n",
    "https://github.com/etvorellana/RepoCET068-IA-2024_2/blob/main/src/busca.py\n",
    "da linha 73 à 82\n",
    "\n",
    "Matrícula: 201710744\n",
    "Nome: Luiz Felipe Santos Lopes\n",
    "Disciplina: DEC000068 - Inteligência Artificial\n",
    "'''"
   ],
   "outputs": [
    {
     "data": {
      "text/plain": [
       "'\\nUtilizando como base o algoritmo do professor Esbel Tomas Valero Orellana, encontrado no Github através do link:\\nhttps://github.com/etvorellana/RepoCET068-IA-2024_2/blob/main/ProvaOral/geradorProblemaDeBusca.ipynb\\nutilizando a seed 31112024 passada pelo professor, eu, Luiz Felipe Santos Lopes, implementei dois algoritmos de busca:\\nA busca gulosa e a busca de custo uniforme, utilizando uma fila de prioridade baseada na fila implementada pelo professor em aula, encontrada em :\\nhttps://github.com/etvorellana/RepoCET068-IA-2024_2/blob/main/src/busca.py\\nda linha 73 à 82\\n\\nMatrícula: 201710744\\nNome: Luiz Felipe Santos Lopes\\nDisciplina: DEC000068 - Inteligência Artificial\\n'"
      ]
     },
     "execution_count": 119,
     "metadata": {},
     "output_type": "execute_result"
    }
   ],
   "execution_count": 119
  },
  {
   "cell_type": "code",
   "metadata": {
    "ExecuteTime": {
     "end_time": "2024-11-07T03:52:03.236929Z",
     "start_time": "2024-11-07T03:52:03.234585Z"
    }
   },
   "source": "from random import choice, seed",
   "outputs": [],
   "execution_count": 120
  },
  {
   "cell_type": "code",
   "metadata": {
    "ExecuteTime": {
     "end_time": "2024-11-07T03:52:03.250360Z",
     "start_time": "2024-11-07T03:52:03.245637Z"
    }
   },
   "source": [
    "class Cruzamento:\n",
    "\n",
    "    def __init__(self, lin, col):\n",
    "        self.saídas = {0: None, 1: None, 2: None, 3: None, 4: None, 5: None, 6: None, 7: None}\n",
    "        self.lin = lin\n",
    "        self.col = col\n",
    "        self.nome = f'({lin}, {col})'\n",
    "    ''' \n",
    "        Adiciona um corredor  saída ao nó\n",
    "        @param saída: direção de saída:\n",
    "            0- Norte\n",
    "            1- Nordeste\n",
    "            2- Leste\n",
    "            3- Sudeste\n",
    "            4- Sul\n",
    "            5- Sudoeste\n",
    "            6- Oeste\n",
    "            7- Noroeste \n",
    "        @param lamps: quantidade de lâmpadas no corredor\n",
    "    '''\n",
    "    def addSaida(self, saída, lamps, destino):\n",
    "        self.saídas[saída] = (lamps, destino)\n",
    "        retorno = (saída + 4) % 8\n",
    "        if destino.saídas[retorno] == None:\n",
    "            destino.addSaida(retorno, lamps, self)\n",
    "\n",
    "    def distância(self, destino):\n",
    "        return ((self.lin - destino.lin)**2 + (self.col - destino.col)**2)**0.5\n",
    "    \n",
    "    def __str__(self):\n",
    "        node =  self.nome\n",
    "        for saída, destino in self.saídas.items():\n",
    "            if destino != None:\n",
    "                node += f' -> {saída, destino[0] ,destino[1].nome}'\n",
    "        return node"
   ],
   "outputs": [],
   "execution_count": 121
  },
  {
   "cell_type": "code",
   "metadata": {
    "ExecuteTime": {
     "end_time": "2024-11-07T03:52:03.267275Z",
     "start_time": "2024-11-07T03:52:03.258645Z"
    }
   },
   "source": [
    "#\"CONSTANTES\" PARA ME GUIAR MELHOR COM AS DIREÇÕES\n",
    "NORTE = 0\n",
    "NORDESTE = 1\n",
    "LESTE = 2\n",
    "SUDESTE = 3\n",
    "SUL = 4\n",
    "SUDOESTE = 5\n",
    "OESTE = 6\n",
    "NOROESTE = 7\n",
    "\n",
    "#TIRANDO AS \"CONSTANTES\" ACIMA E O USO DELAS QUANDO CHAMADA A FUNÇÃO Cruzamento.addSaída(saída, lamps, destino)\n",
    "#O CÓDIGO ABAIXO FOI IMPLEMENTADO PELO PROFESSOR ESBEL\n",
    "\n",
    "gS = 8 # gridSize\n",
    "grade = [ ]\n",
    "for lin in range(gS):\n",
    "    linha = [ ]\n",
    "    for col in range(gS):\n",
    "        linha.append(Cruzamento(lin, col))\n",
    "    grade.append(linha)\n",
    "    \n",
    "qtdLampadas = [1, 3, 5, 7] \n",
    "meuSeed = 31112024 #Seed passada por email\n",
    "seed(meuSeed)\n",
    "\n",
    "# start: na saída temos três possíveis caminhos com quantidade de lampadas aleatórias\n",
    "grade[0][0].addSaida(LESTE, choice(qtdLampadas), grade[0][1])\n",
    "grade[0][0].addSaida(NORDESTE, choice(qtdLampadas), grade[1][1])\n",
    "grade[0][0].addSaida(NORTE, choice(qtdLampadas), grade[1][0])\n",
    "\n",
    "# stop: na chegada temos três possíveis caminhos com quantidade de lampadas aleatórias\n",
    "grade[gS-1][gS-1].addSaida(OESTE, choice(qtdLampadas), grade[gS-1][gS-2])\n",
    "grade[gS-1][gS-1].addSaida(SUDOESTE, choice(qtdLampadas), grade[gS-2][gS-2])\n",
    "grade[gS-1][gS-1].addSaida(SUL, choice(qtdLampadas), grade[gS-2][gS-1])\n",
    "#\n",
    "\n",
    "direções = [0, 1, 2, 3, 4, 5, 6, 7]\n",
    "# preenchendo os cruzamentos do interior da grade com caminhos e lampadas aleatórios\n",
    "for lin in range(1,gS-1):\n",
    "    for col in range(1,gS-1):\n",
    "        vizinhos = {NORTE: grade[lin + 1][col    ], \n",
    "                    NORDESTE: grade[lin + 1][col + 1], \n",
    "                    LESTE: grade[lin    ][col + 1], \n",
    "                    SUDESTE: grade[lin - 1][col + 1], \n",
    "                    SUL: grade[lin - 1][col    ], \n",
    "                    SUDOESTE: grade[lin - 1][col - 1], \n",
    "                    OESTE: grade[lin    ][col - 1], \n",
    "                    NOROESTE: grade[lin + 1][col - 1]}\n",
    "        for direção in direções:\n",
    "            if (grade[lin][col].saídas[direção] == None) and (choice([True, False])): \n",
    "                grade[lin][col].addSaida(direção, choice(qtdLampadas), vizinhos[direção])"
   ],
   "outputs": [],
   "execution_count": 122
  },
  {
   "metadata": {
    "ExecuteTime": {
     "end_time": "2024-11-07T03:52:03.282839Z",
     "start_time": "2024-11-07T03:52:03.277635Z"
    }
   },
   "cell_type": "code",
   "source": [
    "'''\n",
    "EU MODIFIQUEI A FILA DE PRIORIDADE IMPLEMENTADA PELO PROFESSOR ESBEL, QUE SE MANTEM PRATICAMENTE IGUAL,\n",
    "EXCETO QUE AGORA ELA NÃO HERDA ATRIBUTOS E MÉTODOS DE NENHUMA OUTRA CLASSE E TEM O MÉTODO PriorityQueue.top() DIFERENTE\n",
    "QUE AGORA RETORNA O ELEMENTO 0 DA FILA E O REMOVE.  \n",
    "'''\n",
    "class PriorityQueue:\n",
    "    def __init__(self, f):\n",
    "        self.elements = []            # lista de nós\n",
    "        self.f = f                  # função de avaliação f\n",
    "    \n",
    "    def isEmpty(self):\n",
    "        return len(self.elements) == 0  #Retorna se a fila está vazia\n",
    "    def pop(self):\n",
    "        return self.elements.pop() #retorna o .pop() padrão, que seria o último elemento da fila, que será eliminado em seguida\n",
    "    def top(self):\n",
    "        return self.elements.pop(0) #retorna o primeiro elemento da fila e o remove em seguida\n",
    "    def add(self, node):\n",
    "        self.elements.append(node)  #Adiciona um nó a fila\n",
    "        self.elements = sorted(self.elements, key = self.f) #Ordena a fila com base na função de avaliação"
   ],
   "outputs": [],
   "execution_count": 123
  },
  {
   "metadata": {
    "ExecuteTime": {
     "end_time": "2024-11-07T03:52:03.296889Z",
     "start_time": "2024-11-07T03:52:03.291123Z"
    }
   },
   "cell_type": "code",
   "source": [
    "'''\n",
    "Algoritmo de busca gulosa desenvolvida por mim, me baseando no que foi apresentado em aula,\n",
    "no que foi apresentado no livro Inteligência Artificial, 3ª edição de Stuart Russel e Peter Novig (2013)\n",
    "e em pesquisas pela internet\n",
    "'''\n",
    "def buscaGulosa (problema):\n",
    "    noInicial = problema[0][0]  #Nó inicial\n",
    "    noFinal = problema[gS - 1][gS - 1]  #Nó final\n",
    "    borda = PriorityQueue(lambda no: no.distância(noFinal)) #Borda definida como uma fila de prioridade com função de avaliação\n",
    "                                                            #definida como a distância em linha reta do nó até o objetivo\n",
    "    for saida, destino in noInicial.saídas.items():\n",
    "        if destino is not None:\n",
    "            borda.add(destino[1])                           #Definindo a borda com as saídas do nó inicial\n",
    "    \n",
    "    caminho = [noInicial, borda.top()]                      #Uma lista de tuplas (nó, distância) que define o caminho da origem até o destino e sua distância\n",
    "\n",
    "    if caminho[0] == noFinal:\n",
    "        return caminho                                      #Se o caminho inicial já for o objetivo (Não será, mas, pra testes e tal, fiz essa função) retorna o caminho\n",
    "    \n",
    "    def menorDistância (no):                                #Define qual das saídas do nó tem a menor distância\n",
    "        distâncias = []\n",
    "        for saida, destino in no.saídas.items():\n",
    "            if destino is not None:\n",
    "                distâncias.append((destino[1], destino[1].distância(noFinal)))\n",
    "        distâncias.sort(key=lambda x: x[1])\n",
    "        menor = distâncias.pop(0)\n",
    "        return menor[0]\n",
    "    \n",
    "    while caminho[len(caminho) - 1] != noFinal:             #Enquanto não chegar no objetivo, são adicionadas a borda os nós filhos mais próximos do objetivo\n",
    "        noAtual = caminho[len(caminho) - 1]                 #e depois, o nó não visitado mais próximo é adicionado ao caminho\n",
    "        borda.add(menorDistância(noAtual))\n",
    "        \n",
    "        caminho.append(borda.top())\n",
    "        if caminho[len(caminho) - 1] == caminho[len(caminho) - 3]:  #Se o caminho ficar se repetindo, o caminho será considerado redundante ou\n",
    "            return None                                             #não existe caminho até o objetivo\n",
    "    return caminho"
   ],
   "outputs": [],
   "execution_count": 124
  },
  {
   "metadata": {
    "ExecuteTime": {
     "end_time": "2024-11-07T03:52:03.309788Z",
     "start_time": "2024-11-07T03:52:03.303644Z"
    }
   },
   "cell_type": "code",
   "source": [
    "'''\n",
    "Algoritmo de busca de custo uniforme, ou Algoritmo de Dijkstra desenvolvida por mim, me baseando no que foi apresentado em aula,\n",
    "no que foi apresentado no livro Inteligência Artificial, 3ª edição de Stuart Russel e Peter Novig (2013)\n",
    "e em pesquisas pela internet\n",
    "'''\n",
    "#CONSTANTES QUE DEFINE CADA PONTO DA TUPLA\n",
    "NO = 0\n",
    "PAI = 1\n",
    "LAMPADAS = 2\n",
    "    \n",
    "def buscaUniforme (problema):\n",
    "    #Tupla que define o nó inicial. \n",
    "    #Essas tuplas são definidas pelo nó atual, pelo nó pai e pelo custo\n",
    "    #definido pela quantidade de lâmpadas encontradas pelo caminho até o nó atual                                        \n",
    "    noInicial = (problema[0][0], None, 0)  \n",
    "    noFinal = problema[gS - 1][gS - 1] #Objetivo\n",
    "    \n",
    "    #Borda definida como uma fila de prioridade\n",
    "    #com função de avaliação sendo a quantidade de lâmpadas encontradas até o nó atual\n",
    "    borda = PriorityQueue(lambda no: no[2]) \n",
    "    borda.add(noInicial)\n",
    "    \n",
    "    caminho = []    #Lista que conterá todos os nós no caminho entre o nó ionicial e o objetivo\n",
    "    visitados = []  #Lista com todos os nós visitados pela busca\n",
    "    \n",
    "    #Enquanto não for encontrado o melhor caminho possível e houver elementos na borda\n",
    "    #novos nós serão visitados, com base no topo da fila de prioridade\n",
    "    while True:\n",
    "        #Se a borda ficar vazia e não foi encontrado o objetivo, significa que o objetivo não pode ser alcançado\n",
    "        #Ou seja, não há caminhos que levem ao objetivo\n",
    "        if borda.isEmpty():\n",
    "            return None\n",
    "        #Definindo o nó atual\n",
    "        noAtual = borda.top()\n",
    "        custo = noAtual[LAMPADAS]   #custo em quantidade de lâmpadas para chegar ao nó atual\n",
    "        \n",
    "        #Loop para verificar se o nó atual já foi visitado\n",
    "        visitado = False\n",
    "        for v in visitados:\n",
    "            if noAtual[0] == v[0]:\n",
    "                visitado = True\n",
    "        #Se o nó ainda não foi visitado, ele verifica se é o destino e adiciona a borda as saídas possíveis desse nó\n",
    "        if not visitado:\n",
    "            visitados.append(noAtual)\n",
    "            #Se o nó atual for o objetivo, o loop encerrará\n",
    "            if noAtual[NO] == noFinal:\n",
    "                visitados.append(noAtual)\n",
    "                break\n",
    "            #Coloca todas as possíveis saídas na borda\n",
    "            for ls in noAtual[NO].saídas.values():\n",
    "                if ls is not None:\n",
    "                    borda.add((ls[1], noAtual[NO], ls[0] + custo))\n",
    "    \n",
    "    #Caminho definido inicialmente como o nó objetivo, na forma da tupla (Nó atual, Nó pai, custo de chegada em lâmpadas)\n",
    "    caminho.append(visitados.pop())\n",
    "    i = 0\n",
    "    #Enquanto não chegar no nó raiz, verifica os nós visitados, saindo do nó objetivo, para achar o pai do nó atual\n",
    "    while caminho[i][PAI] is not None:\n",
    "       for v in visitados:\n",
    "           #Se o nó visitado atual for pai do nó caminho atual, é adicionado o nó visitado ao caminho\n",
    "            if v[0] == caminho[i][PAI]:\n",
    "                caminho.append(v)\n",
    "                break\n",
    "       i += 1\n",
    "    #Reverte a lista do caminho, para que comece do nó inicial e mostre o caminho até o objetivo\n",
    "    caminho.reverse()\n",
    "    return caminho    "
   ],
   "outputs": [],
   "execution_count": 125
  },
  {
   "metadata": {
    "ExecuteTime": {
     "end_time": "2024-11-07T03:52:03.321031Z",
     "start_time": "2024-11-07T03:52:03.316990Z"
    }
   },
   "cell_type": "code",
   "source": [
    "cam = buscaGulosa(grade)\n",
    "\n",
    "if cam == None:\n",
    "    print(\"Caminho redundante ou não existente\")\n",
    "else:\n",
    "    for c in cam:\n",
    "        if c != grade[gS - 1][gS - 1]:\n",
    "            print(c.nome, \"distância: \", c.distância(grade[gS - 1][gS - 1]))\n",
    "        else:\n",
    "            print(c.nome, \" === OBJETIVO\")"
   ],
   "outputs": [
    {
     "name": "stdout",
     "output_type": "stream",
     "text": [
      "(0, 0) distância:  9.899494936611665\n",
      "(1, 1) distância:  8.48528137423857\n",
      "(2, 2) distância:  7.0710678118654755\n",
      "(3, 3) distância:  5.656854249492381\n",
      "(4, 4) distância:  4.242640687119285\n",
      "(5, 5) distância:  2.8284271247461903\n",
      "(5, 6) distância:  2.23606797749979\n",
      "(6, 7) distância:  1.0\n",
      "(7, 7)  === OBJETIVO\n"
     ]
    }
   ],
   "execution_count": 126
  },
  {
   "metadata": {
    "ExecuteTime": {
     "end_time": "2024-11-07T03:52:03.334875Z",
     "start_time": "2024-11-07T03:52:03.329818Z"
    }
   },
   "cell_type": "code",
   "source": [
    "cam = buscaUniforme(grade)\n",
    "if cam == None:\n",
    "    print(\"Caminho inexistente!\")\n",
    "else:\n",
    "    for c in cam:\n",
    "        if c[NO] == grade[0][0]:\n",
    "            print(f\"Saída: {c[NO].nome}\")\n",
    "        else:\n",
    "                if c[NO] == grade[gS - 1][gS - 1]:\n",
    "                    print(f\"{c[PAI].nome} ---({c[LAMPADAS]})---> {c[NO].nome}\")\n",
    "                    print(f\"{c[NO].nome} === OBJETIVO, passando por {c[LAMPADAS]} lâmpadas\")\n",
    "                else:\n",
    "                    print(f\"{c[PAI].nome} ---({c[LAMPADAS]})---> {c[NO].nome}\")"
   ],
   "outputs": [
    {
     "name": "stdout",
     "output_type": "stream",
     "text": [
      "Saída: (0, 0)\n",
      "(0, 0) ---(5)---> (1, 1)\n",
      "(1, 1) ---(10)---> (2, 2)\n",
      "(2, 2) ---(13)---> (3, 3)\n",
      "(3, 3) ---(16)---> (4, 4)\n",
      "(4, 4) ---(17)---> (5, 5)\n",
      "(5, 5) ---(20)---> (5, 6)\n",
      "(5, 6) ---(21)---> (6, 7)\n",
      "(6, 7) ---(24)---> (7, 7)\n",
      "(7, 7) === OBJETIVO, passando por 24 lâmpadas\n"
     ]
    }
   ],
   "execution_count": 127
  }
 ],
 "metadata": {
  "kernelspec": {
   "display_name": "cet068IA",
   "language": "python",
   "name": "python3"
  },
  "language_info": {
   "codemirror_mode": {
    "name": "ipython",
    "version": 3
   },
   "file_extension": ".py",
   "mimetype": "text/x-python",
   "name": "python",
   "nbconvert_exporter": "python",
   "pygments_lexer": "ipython3",
   "version": "3.10.14"
  }
 },
 "nbformat": 4,
 "nbformat_minor": 2
}
